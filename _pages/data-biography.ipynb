{
 "cells": [
  {
   "cell_type": "markdown",
   "id": "0b96dbef-ac20-412d-bbfa-9eea12ba9fd5",
   "metadata": {},
   "source": [
    "# Data Biography\n"
   ]
  },
  {
   "cell_type": "code",
   "execution_count": 2,
   "id": "f61c3c4c-c5b2-48f5-a487-9d155ab9e9fd",
   "metadata": {},
   "outputs": [],
   "source": [
    "import plotly.express as pd\n"
   ]
  },
  {
   "cell_type": "code",
   "execution_count": null,
   "id": "cffed323-f2cf-4ad6-9394-9735885889c9",
   "metadata": {},
   "outputs": [],
   "source": []
  }
 ],
 "metadata": {
  "kernelspec": {
   "display_name": "Python [conda env:base] *",
   "language": "python",
   "name": "conda-base-py"
  },
  "language_info": {
   "codemirror_mode": {
    "name": "ipython",
    "version": 3
   },
   "file_extension": ".py",
   "mimetype": "text/x-python",
   "name": "python",
   "nbconvert_exporter": "python",
   "pygments_lexer": "ipython3",
   "version": "3.12.7"
  }
 },
 "nbformat": 4,
 "nbformat_minor": 5
}
