{
 "cells": [
  {
   "cell_type": "code",
   "execution_count": 1,
   "id": "6d312511-85f6-49f7-baf1-6c823fbca4bf",
   "metadata": {},
   "outputs": [
    {
     "name": "stdout",
     "output_type": "stream",
     "text": [
      "hello world\n"
     ]
    }
   ],
   "source": [
    "print(\"hello world\")"
   ]
  },
  {
   "cell_type": "markdown",
   "id": "91564a4f-18b4-4fe0-a918-87fdae61d06b",
   "metadata": {},
   "source": [
    "gaga"
   ]
  },
  {
   "cell_type": "code",
   "execution_count": null,
   "id": "0f5124c8-bff8-4780-bf3b-a5a7f7b5e296",
   "metadata": {},
   "outputs": [],
   "source": []
  }
 ],
 "metadata": {
  "kernelspec": {
   "display_name": "Python [conda env:base] *",
   "language": "python",
   "name": "conda-base-py"
  },
  "language_info": {
   "codemirror_mode": {
    "name": "ipython",
    "version": 3
   },
   "file_extension": ".py",
   "mimetype": "text/x-python",
   "name": "python",
   "nbconvert_exporter": "python",
   "pygments_lexer": "ipython3",
   "version": "3.12.7"
  }
 },
 "nbformat": 4,
 "nbformat_minor": 5
}
